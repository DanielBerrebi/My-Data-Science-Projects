{
 "cells": [
  {
   "cell_type": "code",
   "execution_count": 1,
   "metadata": {},
   "outputs": [],
   "source": [
    "import pandas as pd\n",
    "transitions_herpes=\"CGTTCCGGTATGGGGGGGGCTGCCGCCAGGTTGGGGGCCGTGATTTTGTTTGTCGTCATAGTGGGCCTCCATGGGGTCCGCGGCAAATATGCCTTGGCGGATGCCTCTCTCAAGATGGCCGACCCCAATCGCTTTCGCGGCAAAGACCTTCCGGTCCTGGACCAGCTGACCGACCCTCCGGGGGTCCGGCGCGTGTACCACATCCAGGCGGGCCTACCGGACCCGTTCCAGCCCCCCAGCCTCCCGATCACGGTTTACTACGCCGTGTTGGAGCGCGCCTGCCGCAGCGTGCTCCTAAACGCACCGTCGGAGGCCCCCCAGATTGTCCGCGGGGCCTCCGAAGACGTCCGGAAACAACCCTACAACCTGACCATCGCTTGGTTTCGGATGGGAGGCAACTGTGCTATCCCCATCACGGTCATGGAGTACACCGAATGCTCCTACAACAAGTCTCTGGGGGCCTGTCCCATCCGAACGCAGCCCCGCTGGAACTACTATGACAGCTTCAGCGCCGTCAGCGAGGATAACCTGGGGTTCCTGATGCACGCCCCCGCGTTTGAGACCGCCGGCACGTACCTGCGGCTCGTGAAGATAAACGACTGGACGGAGATTACACAGTTTATCCTGGAGCACCGAGCCAAGGGCTCCTGTAAGTACGCCCTCCCGCTGCGCATCCCCCCGTCAGCCTGCCTCTCCCCCCAGGCCTACCAGCAGGGGGTGACGGTGGACAGCATCGGGATGCTGCCCCGCTTCATCCCCGAGAACCAGCGCACCGTCGCCGTATACAGCTTGAAGATCGCCGGGTGGCACGGGCCCAAGGCCCCATACACGAGCACCCTGCTGCCCCCGGAGCTGTCCGAGACCCCCAACGCCACGCAGCCAGAACTCGCCCCGGAAGACCCCGAGGATTCGGCCCTCTTGGAGGACCCCGTGGGGACGGTGGCGCCGCAAATCCCACCAAACTGGCACATCCCGTCGATCCAGGACGCCGCGACGCCTTACCATCCCCCGGCCACCCCGAACAACATGGGCCTGATCGCCGGCGCGGTGGGCGGCAGTCTCCTGGCAGCCCTGGTCATTTGCGGAATTGTGTACTGGATGCACCGCCGCACTCGGAAAGCCCCAAAGCGCATACGCCTCCCCCACATCCGGGAAGACGACCAGCCGTCCTCGCACCAGCCCTTGTTTTACTAGATACCCCCCCCCCTTAATGGGT\"\n",
    "#str to char array\n",
    "transitions_herpes=list(transitions_herpes)\n",
    "df = pd.DataFrame(columns = ['state', 'next_state'])\n",
    "for i, val in enumerate(transitions_herpes[:-1]): # We don't care about last state\n",
    "    df_stg = pd.DataFrame(index=[0])\n",
    "    df_stg['state'], df_stg['next_state'] = transitions_herpes[i], transitions_herpes[i+1]\n",
    "    df = pd.concat([df, df_stg], axis = 0)\n",
    "cross_tab_Herpes = pd.crosstab(df['state'], df['next_state'])\n",
    "cross_tab_Herpes=cross_tab_Herpes.div(cross_tab_Herpes.sum(axis=1), axis=0)"
   ]
  },
  {
   "cell_type": "code",
   "execution_count": 2,
   "metadata": {},
   "outputs": [],
   "source": [
    "transitions_papilloma =\"ATACTATACTTTCGTTAATACTTTTAACAATTGTAGTATATAAAAAAGGGAGTGACCGAAAACGGTCGGGACCGAAAACGGTGTATATAAAAGATGTGAGAAACACACCACAATACTATGGCGCGCTTTGAGGATCCAACACGGCGACCCTACAAGCTACCTGATCTGTGCACGGAACTGAACACTTCACTGCAAGACATAGAAATAACCTGTGTATATTGCAAGACAGTATTGGAACTTACAGAGGTATTTGAATTTGCATTTAAAGATTTATTTGTGGTGTATAGAGACAGTATACCGCATGCTGCATGCCATAAATGTATAGATTTTTATTCTAGAATTAGAGAATTAAGACATTATTCAGACTCTGTGTATGGAGACACATTGGAAAAACTAACTAACACTGGGTTATACAATTTATTAATAAGGTGCCTGCGGTGCCAGAAACCGTTGAATCCAGCAGAAAAACTTAGACACCTTAATGAAAAACGACGATTTCACAACATAGCTGGGCACTATAGAGGCCAGTGCCATTCGTGCTGCAACCGAGCACGACAGGAACGACTCCAACGACGCAGAGAAACACAAGTATAATATTAAGTATGCATGGACCTAAGGCAACATTGCAAGACATTGTATTGCATTTAGAGCCCCAAAATGAAATTCCGGTTGACCTTCTATGTCACGAGCAATTAAGCGACTCAGAGGAAGAAAACGATGAAATAGATGGAGTTAATCATCAACATTTACCAGCCCGACGAGCCGAACCACAACGTCACACAATGTTGTGTATGTGTTGTAAGTGTGAAGCCAGAATTGAGCTAGTAGTAGAAAGCTCAGCAGACGACCTTCGAGCATTCCAGCAGCTGTTTCTGAACACCCTGTCCTTTGTGTGTCCGTGGTGTGCATCCCAGCAGTAAGCAACAATGGCTGATCCAGAAGGTACAGACGGGGAGGGCACGGGTTGTAACGGCTGGTTTTATGTACAAGCTATTGTAGACAAAAAAACAGGAGATGTAATATCAGATGACGAGGACGAAAATGCAACAGACACAGGGTCGGATATGGTAGATTTTATTGATACACAAGGAACATTTTGTGAACAGGCAGAGCTAGAGACAGCACAGGCATTGTTCCATGCGCAGGAGGTCCACAATGATGCACAAGTGTTGCATGTTTTAAAACGAAAGTTTGCAGGAGGCAGCACAGAAAACAGTCCATTAGGGGAGCGGCTGGAGGTGGATACAGAGTTAAGTCCACGGTTACAAGAAATATCTTTAAATAGTGGGCAGAAAAAGGCAAAAAGGCGGCTGTTTACAATATCAGATAGTGGCTATGGCTGTTCTGAAGTGGAAGCAACACAGATTCAGGTAACTACAAATGGCGAACATGGCGGCAATGTATGTAGTGGCGGCAGTACGGAGGCTATAGACAACGGGGGCACAGAGGGCAACAACAGCAGTGTAGACGGTACAAGTGACAATAGCAATATAGAAAATGTAAATCCACAATGTACCATAGCACAATTAAAAGACTTGTTAAAAGTAAACAATAAACAAGGAGCTATGTTAGCAGTATTTAAAGACACATATGGGCTATCATTTACAGATTTAGTTAGAAATTTTAAAAGTGATAAAACCACGTGTACAGATTGGGTTACAGCTATATTTGGAGTAAACCCAACAATAGCAGAAGGATTTAAAACACTAATACAGCCATTTATATTATATGCCCATATTCAATGTCTAGA\"\n",
    "transitions_papilloma=list(transitions_papilloma)\n",
    "df = pd.DataFrame(columns = ['state', 'next_state'])\n",
    "for i, val in enumerate(transitions_papilloma[:-1]): # We don't care about last state\n",
    "    df_stg = pd.DataFrame(index=[0])\n",
    "    df_stg['state'], df_stg['next_state'] = transitions_papilloma[i], transitions_papilloma[i+1]\n",
    "    df = pd.concat([df, df_stg], axis = 0)\n",
    "cross_tab_Papilloma = pd.crosstab(df['state'], df['next_state'])\n",
    "cross_tab_Papilloma=cross_tab_Papilloma.div(cross_tab_Papilloma.sum(axis=1), axis=0)"
   ]
  },
  {
   "cell_type": "code",
   "execution_count": 6,
   "metadata": {},
   "outputs": [
    {
     "data": {
      "text/html": [
       "<div>\n",
       "<style scoped>\n",
       "    .dataframe tbody tr th:only-of-type {\n",
       "        vertical-align: middle;\n",
       "    }\n",
       "\n",
       "    .dataframe tbody tr th {\n",
       "        vertical-align: top;\n",
       "    }\n",
       "\n",
       "    .dataframe thead th {\n",
       "        text-align: right;\n",
       "    }\n",
       "</style>\n",
       "<table border=\"1\" class=\"dataframe\">\n",
       "  <thead>\n",
       "    <tr style=\"text-align: right;\">\n",
       "      <th>next_state</th>\n",
       "      <th>A</th>\n",
       "      <th>C</th>\n",
       "      <th>G</th>\n",
       "      <th>T</th>\n",
       "    </tr>\n",
       "    <tr>\n",
       "      <th>state</th>\n",
       "      <th></th>\n",
       "      <th></th>\n",
       "      <th></th>\n",
       "      <th></th>\n",
       "    </tr>\n",
       "  </thead>\n",
       "  <tbody>\n",
       "    <tr>\n",
       "      <th>A</th>\n",
       "      <td>0.625925</td>\n",
       "      <td>1.574645</td>\n",
       "      <td>1.045918</td>\n",
       "      <td>0.908595</td>\n",
       "    </tr>\n",
       "    <tr>\n",
       "      <th>C</th>\n",
       "      <td>0.364980</td>\n",
       "      <td>2.559425</td>\n",
       "      <td>1.521109</td>\n",
       "      <td>0.849060</td>\n",
       "    </tr>\n",
       "    <tr>\n",
       "      <th>G</th>\n",
       "      <td>0.637520</td>\n",
       "      <td>1.507159</td>\n",
       "      <td>1.427929</td>\n",
       "      <td>0.626082</td>\n",
       "    </tr>\n",
       "    <tr>\n",
       "      <th>T</th>\n",
       "      <td>0.461603</td>\n",
       "      <td>3.300178</td>\n",
       "      <td>1.176585</td>\n",
       "      <td>0.667466</td>\n",
       "    </tr>\n",
       "  </tbody>\n",
       "</table>\n",
       "</div>"
      ],
      "text/plain": [
       "next_state         A         C         G         T\n",
       "state                                             \n",
       "A           0.625925  1.574645  1.045918  0.908595\n",
       "C           0.364980  2.559425  1.521109  0.849060\n",
       "G           0.637520  1.507159  1.427929  0.626082\n",
       "T           0.461603  3.300178  1.176585  0.667466"
      ]
     },
     "execution_count": 6,
     "metadata": {},
     "output_type": "execute_result"
    }
   ],
   "source": [
    "import numpy as np\n",
    "#dividing cross_tab_Herpes bycross_tab_Papilloma\n",
    "cross_tab_Herpes_div_Papilloma=cross_tab_Herpes.div(cross_tab_Papilloma, axis=0)\n",
    "for i in range(len(cross_tab_Herpes.columns)):\n",
    "    for j in range(len(cross_tab_Herpes.columns)):\n",
    "        cross_tab_Herpes_div_Papilloma.iloc[i,j]=cross_tab_Herpes.iloc[i,j]/cross_tab_Papilloma.iloc[i,j]\n",
    "cross_tab_Herpes_div_Papilloma\n"
   ]
  },
  {
   "cell_type": "code",
   "execution_count": 8,
   "metadata": {},
   "outputs": [
    {
     "data": {
      "text/html": [
       "<div>\n",
       "<style scoped>\n",
       "    .dataframe tbody tr th:only-of-type {\n",
       "        vertical-align: middle;\n",
       "    }\n",
       "\n",
       "    .dataframe tbody tr th {\n",
       "        vertical-align: top;\n",
       "    }\n",
       "\n",
       "    .dataframe thead th {\n",
       "        text-align: right;\n",
       "    }\n",
       "</style>\n",
       "<table border=\"1\" class=\"dataframe\">\n",
       "  <thead>\n",
       "    <tr style=\"text-align: right;\">\n",
       "      <th>next_state</th>\n",
       "      <th>A</th>\n",
       "      <th>C</th>\n",
       "      <th>G</th>\n",
       "      <th>T</th>\n",
       "    </tr>\n",
       "    <tr>\n",
       "      <th>state</th>\n",
       "      <th></th>\n",
       "      <th></th>\n",
       "      <th></th>\n",
       "      <th></th>\n",
       "    </tr>\n",
       "  </thead>\n",
       "  <tbody>\n",
       "    <tr>\n",
       "      <th>A</th>\n",
       "      <td>-0.675938</td>\n",
       "      <td>0.655027</td>\n",
       "      <td>0.064770</td>\n",
       "      <td>-0.138291</td>\n",
       "    </tr>\n",
       "    <tr>\n",
       "      <th>C</th>\n",
       "      <td>-1.454109</td>\n",
       "      <td>1.355820</td>\n",
       "      <td>0.605124</td>\n",
       "      <td>-0.236062</td>\n",
       "    </tr>\n",
       "    <tr>\n",
       "      <th>G</th>\n",
       "      <td>-0.649458</td>\n",
       "      <td>0.591831</td>\n",
       "      <td>0.513924</td>\n",
       "      <td>-0.675577</td>\n",
       "    </tr>\n",
       "    <tr>\n",
       "      <th>T</th>\n",
       "      <td>-1.115276</td>\n",
       "      <td>1.722544</td>\n",
       "      <td>0.234606</td>\n",
       "      <td>-0.583234</td>\n",
       "    </tr>\n",
       "  </tbody>\n",
       "</table>\n",
       "</div>"
      ],
      "text/plain": [
       "next_state         A         C         G         T\n",
       "state                                             \n",
       "A          -0.675938  0.655027  0.064770 -0.138291\n",
       "C          -1.454109  1.355820  0.605124 -0.236062\n",
       "G          -0.649458  0.591831  0.513924 -0.675577\n",
       "T          -1.115276  1.722544  0.234606 -0.583234"
      ]
     },
     "execution_count": 8,
     "metadata": {},
     "output_type": "execute_result"
    }
   ],
   "source": [
    "#apply log in base of 2 on cross_tab_Herpes_div_Papilloma\n",
    "cross_tab_Herpes_div_Papilloma_log=np.log2(cross_tab_Herpes_div_Papilloma)\n",
    "cross_tab_Herpes_div_Papilloma_log"
   ]
  },
  {
   "cell_type": "code",
   "execution_count": 16,
   "metadata": {},
   "outputs": [
    {
     "name": "stdout",
     "output_type": "stream",
     "text": [
      "likelihood is 2.8508556397575404\n",
      "The sequence shows that the virus is Herpes\n"
     ]
    }
   ],
   "source": [
    "x=\"GCTCGCGTTGTAACGCCTGGTT\"\n",
    "x=list(x)\n",
    "#determinate if x is herpes or papilloma by using cross_tab_Herpes_div_Papilloma_log \n",
    "likelihood=0\n",
    "dict = {'A':0, 'C':1, 'G':2, 'T':3}\n",
    "for i in range(len(x)-1):\n",
    "    likelihood+=cross_tab_Herpes_div_Papilloma_log.iloc[dict[x[i]], dict[x[i+1]]]\n",
    "print(\"likelihood is\",likelihood)\n",
    "if(likelihood>0):\n",
    "    print(\"The sequence shows that the virus is Herpes\")\n",
    "else:\n",
    "    print(\"The sequence shows that the virus is Papilloma\")"
   ]
  },
  {
   "cell_type": "markdown",
   "metadata": {},
   "source": []
  }
 ],
 "metadata": {
  "interpreter": {
   "hash": "569f18c9252fc8128dcb62cf44134002839bf2326fdd870d5b8862ae847f6b07"
  },
  "kernelspec": {
   "display_name": "Python 3.9.7 64-bit",
   "language": "python",
   "name": "python3"
  },
  "language_info": {
   "codemirror_mode": {
    "name": "ipython",
    "version": 3
   },
   "file_extension": ".py",
   "mimetype": "text/x-python",
   "name": "python",
   "nbconvert_exporter": "python",
   "pygments_lexer": "ipython3",
   "version": "3.9.7"
  },
  "orig_nbformat": 4
 },
 "nbformat": 4,
 "nbformat_minor": 2
}
